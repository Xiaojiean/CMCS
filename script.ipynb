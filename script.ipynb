{
 "cells": [
  {
   "cell_type": "code",
   "execution_count": 12,
   "metadata": {},
   "outputs": [],
   "source": [
    "import mysql.connector\n",
    "db = mysql.connector.connect(host=\"localhost\",user=\"root\",passwd=\"password\",database=\"cmcs\")\n",
    "cur = db.cursor(dictionary=True)"
   ]
  },
  {
   "cell_type": "code",
   "execution_count": 13,
   "metadata": {},
   "outputs": [
    {
     "name": "stdout",
     "output_type": "stream",
     "text": [
      "[]\n"
     ]
    }
   ],
   "source": [
    "query = \"select * from users;\"\n",
    "cur.execute(query)\n",
    "users = cur.fetchall()\n",
    "print(users)\n",
    "cur.close()\n",
    "db.close()"
   ]
  },
  {
   "cell_type": "code",
   "execution_count": 4,
   "metadata": {},
   "outputs": [],
   "source": [
    "import random\n",
    "def gen_phone():\n",
    "    first = str(random.randint(100,999))\n",
    "    second = str(random.randint(1,888)).zfill(3)\n",
    "\n",
    "    last = (str(random.randint(1,9998)).zfill(4))\n",
    "    while last in ['1111','2222','3333','4444','5555','6666','7777','8888']:\n",
    "        last = (str(random.randint(1,9998)).zfill(4))\n",
    "\n",
    "    return '{}-{}-{}'.format(first,second, last)"
   ]
  },
  {
   "cell_type": "code",
   "execution_count": 10,
   "metadata": {},
   "outputs": [],
   "source": [
    "#create user set\n",
    "import json\n",
    "new_users = []\n",
    "with open('names.txt') as f:\n",
    "    for user in f:\n",
    "        firstname,lastname = user.strip().split()\n",
    "        nu = (\n",
    "            firstname,\n",
    "            lastname,\n",
    "            firstname[:2]+lastname[:2],\n",
    "            firstname +\"@email.com\",\n",
    "            lastname + \"'s home\",\n",
    "            gen_phone(),\n",
    "            json.dumps([random.randint(1,100) for _ in range(3)])\n",
    "        )\n",
    "        new_users.append(nu)"
   ]
  },
  {
   "cell_type": "code",
   "execution_count": 15,
   "metadata": {},
   "outputs": [],
   "source": [
    "db.connect()\n",
    "cur = db.cursor(dictionary=True)\n",
    "ins = \"insert into users (uid,username,firstname,lastname,email,address,tel,cars) values \\\n",
    "(null,%s,%s,%s,%s,%s,%s,%s);\"\n",
    "cur.executemany(ins,new_users)\n",
    "cur.close()\n",
    "db.commit()\n",
    "db.close()"
   ]
  },
  {
   "cell_type": "code",
   "execution_count": 19,
   "metadata": {},
   "outputs": [],
   "source": [
    "#create car set\n",
    "new_cars = []\n",
    "with open('carname.txt') as f:\n",
    "    for car in f:\n",
    "        carname = car.strip()\n",
    "        info = {\n",
    "            'battery':random.randint(1,100),\n",
    "            'status':['idle','busy','stopped','missed'][random.randint(0,3)]\n",
    "        }\n",
    "        nc = (\n",
    "            carname,\n",
    "            json.dumps(info),\n",
    "            json.dumps([random.randint(1,100) for _ in range(3)])\n",
    "        )\n",
    "        new_cars.append(nc)"
   ]
  },
  {
   "cell_type": "code",
   "execution_count": 20,
   "metadata": {},
   "outputs": [],
   "source": [
    "db.connect()\n",
    "cur = db.cursor(dictionary=True)\n",
    "ins = \"insert into cars (cid,carname,info,tasks) values \\\n",
    "(null,%s,%s,%s);\"\n",
    "cur.executemany(ins,new_cars)\n",
    "cur.close()\n",
    "db.commit()\n",
    "db.close()"
   ]
  },
  {
   "cell_type": "code",
   "execution_count": 24,
   "metadata": {},
   "outputs": [],
   "source": [
    "#creat tasks\n",
    "new_tasks = []\n",
    "name_cdd = ['wondering','explore','deliver','collect']\n",
    "if_cdd = ['from a to b','from b to c','from c to a']\n",
    "for _ in range(100):\n",
    "    nt = (name_cdd[random.randint(0,3)],if_cdd[random.randint(0,2)],random.randint(1,100))\n",
    "    new_tasks.append(nt)"
   ]
  },
  {
   "cell_type": "code",
   "execution_count": 25,
   "metadata": {},
   "outputs": [],
   "source": [
    "db.connect()\n",
    "cur = db.cursor(dictionary=True)\n",
    "ins = \"insert into tasks (tid,taskname,info,status) values \\\n",
    "(null,%s,%s,%s);\"\n",
    "cur.executemany(ins,new_tasks)\n",
    "cur.close()\n",
    "db.commit()\n",
    "db.close()"
   ]
  },
  {
   "cell_type": "code",
   "execution_count": null,
   "metadata": {},
   "outputs": [],
   "source": []
  }
 ],
 "metadata": {
  "kernelspec": {
   "display_name": "Python 3.8.1 64-bit ('3.8.1': pyenv)",
   "language": "python",
   "name": "python38164bit381pyenv7a862769433d44099620029d64f110d5"
  },
  "language_info": {
   "codemirror_mode": {
    "name": "ipython",
    "version": 3
   },
   "file_extension": ".py",
   "mimetype": "text/x-python",
   "name": "python",
   "nbconvert_exporter": "python",
   "pygments_lexer": "ipython3",
   "version": "3.8.1"
  }
 },
 "nbformat": 4,
 "nbformat_minor": 4
}
