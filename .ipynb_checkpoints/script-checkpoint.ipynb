{
 "cells": [
  {
   "cell_type": "code",
   "execution_count": 36,
   "metadata": {},
   "outputs": [],
   "source": [
    "import mysql.connector"
   ]
  },
  {
   "cell_type": "code",
   "execution_count": 37,
   "metadata": {},
   "outputs": [],
   "source": [
    "db = mysql.connector.connect(host=\"localhost\",user=\"root\",passwd=\"password\",database=\"cmcs\")"
   ]
  },
  {
   "cell_type": "code",
   "execution_count": 38,
   "metadata": {},
   "outputs": [],
   "source": [
    "cur = db.cursor(dictionary=True)"
   ]
  },
  {
   "cell_type": "code",
   "execution_count": 4,
   "metadata": {},
   "outputs": [],
   "source": [
    "query = \"select * from users;\""
   ]
  },
  {
   "cell_type": "code",
   "execution_count": 5,
   "metadata": {},
   "outputs": [],
   "source": [
    "cur.execute(query)"
   ]
  },
  {
   "cell_type": "code",
   "execution_count": 6,
   "metadata": {},
   "outputs": [],
   "source": [
    "users = cur.fetchall()"
   ]
  },
  {
   "cell_type": "code",
   "execution_count": 7,
   "metadata": {},
   "outputs": [
    {
     "name": "stdout",
     "output_type": "stream",
     "text": [
      "[{'uid': 1, 'username': 'pcpcp', 'firstname': 'chao', 'lastname': 'pi', 'email': 'pc@email.com', 'address': 'pchome', 'tel': '12345', 'cars': 'none'}]\n"
     ]
    }
   ],
   "source": [
    "print(users)"
   ]
  },
  {
   "cell_type": "code",
   "execution_count": 41,
   "metadata": {},
   "outputs": [
    {
     "data": {
      "text/plain": [
       "True"
      ]
     },
     "execution_count": 41,
     "metadata": {},
     "output_type": "execute_result"
    }
   ],
   "source": [
    "cur.close()"
   ]
  },
  {
   "cell_type": "code",
   "execution_count": 42,
   "metadata": {},
   "outputs": [],
   "source": [
    "db.close()"
   ]
  },
  {
   "cell_type": "code",
   "execution_count": 11,
   "metadata": {},
   "outputs": [],
   "source": [
    "import random\n",
    "def gen_phone():\n",
    "    first = str(random.randint(100,999))\n",
    "    second = str(random.randint(1,888)).zfill(3)\n",
    "\n",
    "    last = (str(random.randint(1,9998)).zfill(4))\n",
    "    while last in ['1111','2222','3333','4444','5555','6666','7777','8888']:\n",
    "        last = (str(random.randint(1,9998)).zfill(4))\n",
    "\n",
    "    return '{}-{}-{}'.format(first,second, last)"
   ]
  },
  {
   "cell_type": "code",
   "execution_count": 12,
   "metadata": {},
   "outputs": [
    {
     "data": {
      "text/plain": [
       "'676-578-6157'"
      ]
     },
     "execution_count": 12,
     "metadata": {},
     "output_type": "execute_result"
    }
   ],
   "source": [
    "gen_phone()"
   ]
  },
  {
   "cell_type": "code",
   "execution_count": 18,
   "metadata": {},
   "outputs": [],
   "source": [
    "#create user set\n",
    "import json\n",
    "new_users = []\n",
    "with open('names.txt') as f:\n",
    "    for user in f:\n",
    "        firstname,lastname = user.strip().split()\n",
    "        nu = {\n",
    "            'firstname':firstname,\n",
    "            'lastname':lastname,\n",
    "            'username' : firstname[:2]+lastname[:2],\n",
    "            'email' : firstname +\"@email.com\",\n",
    "            'address' : lastname + \"'s home\",\n",
    "            'tel' : gen_phone(),\n",
    "            'cars' : json.dumps([random.randint(1,100) for _ in range(3)])\n",
    "        }\n",
    "        new_users.append(nu)"
   ]
  },
  {
   "cell_type": "code",
   "execution_count": 19,
   "metadata": {},
   "outputs": [
    {
     "data": {
      "text/plain": [
       "{'firstname': 'Judy',\n",
       " 'lastname': 'Mccarthy',\n",
       " 'username': 'JuMc',\n",
       " 'email': 'Judy@email.com',\n",
       " 'address': \"Mccarthy's home\",\n",
       " 'tel': '402-334-4285',\n",
       " 'cars': '[38, 82, 61]'}"
      ]
     },
     "execution_count": 19,
     "metadata": {},
     "output_type": "execute_result"
    }
   ],
   "source": [
    "new_users[0]"
   ]
  },
  {
   "cell_type": "code",
   "execution_count": 27,
   "metadata": {},
   "outputs": [],
   "source": [
    "#create car set\n",
    "new_cars = []\n",
    "with open('carname.txt') as f:\n",
    "    for car in f:\n",
    "        carname = user.strip()\n",
    "        info = {\n",
    "            'battery':random.randint(1,100),\n",
    "            'status':['idle','busy','stopped','missed'][random.randint(0,3)]\n",
    "        }\n",
    "        nc = {\n",
    "            'carname' : carname,\n",
    "            'info' : json.dumps(info),\n",
    "            'tasks' : json.dumps([random.randint(1,100) for _ in range(3)])\n",
    "        }\n",
    "        new_cars.append(nc)"
   ]
  },
  {
   "cell_type": "code",
   "execution_count": 28,
   "metadata": {},
   "outputs": [
    {
     "data": {
      "text/plain": [
       "{'carname': 'Lily-Rose Goodwin',\n",
       " 'info': '{\"battery\": 85, \"status\": \"busy\"}',\n",
       " 'tasks': '[99, 16, 62]'}"
      ]
     },
     "execution_count": 28,
     "metadata": {},
     "output_type": "execute_result"
    }
   ],
   "source": [
    "new_cars[0]"
   ]
  },
  {
   "cell_type": "code",
   "execution_count": null,
   "metadata": {},
   "outputs": [],
   "source": [
    "#creat tasks\n",
    "new_tasks = []\n",
    "for _ in range(100):\n",
    "    nt = "
   ]
  }
 ],
 "metadata": {
  "kernelspec": {
   "display_name": "Python 3.8.1 64-bit ('3.8.1': pyenv)",
   "language": "python",
   "name": "python38164bit381pyenv7a862769433d44099620029d64f110d5"
  },
  "language_info": {
   "codemirror_mode": {
    "name": "ipython",
    "version": 3
   },
   "file_extension": ".py",
   "mimetype": "text/x-python",
   "name": "python",
   "nbconvert_exporter": "python",
   "pygments_lexer": "ipython3",
   "version": "3.8.1"
  }
 },
 "nbformat": 4,
 "nbformat_minor": 4
}
